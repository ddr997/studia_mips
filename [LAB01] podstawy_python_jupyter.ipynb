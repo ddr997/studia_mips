{
  "nbformat": 4,
  "nbformat_minor": 0,
  "metadata": {
    "kernelspec": {
      "display_name": "Python 3",
      "language": "python",
      "name": "python3"
    },
    "language_info": {
      "codemirror_mode": {
        "name": "ipython",
        "version": 3
      },
      "file_extension": ".py",
      "mimetype": "text/x-python",
      "name": "python",
      "nbconvert_exporter": "python",
      "pygments_lexer": "ipython3",
      "version": "3.7.3"
    },
    "colab": {
      "name": "podstawy_python_jupyter.ipynb",
      "provenance": [],
      "collapsed_sections": []
    }
  },
  "cells": [
    {
      "cell_type": "code",
      "metadata": {
        "id": "vHy-cMekhL9S",
        "outputId": "fa59cc53-7abc-405c-88c9-9d82c215c9a4",
        "colab": {
          "base_uri": "https://localhost:8080/",
          "height": 34
        }
      },
      "source": [
        "# komentarz\n",
        "\n",
        "# if\n",
        "\n",
        "wielkosc = 5\n",
        "\n",
        "print(wielkosc)"
      ],
      "execution_count": null,
      "outputs": [
        {
          "output_type": "stream",
          "text": [
            "5\n"
          ],
          "name": "stdout"
        }
      ]
    },
    {
      "cell_type": "code",
      "metadata": {
        "id": "3CE7zc21hL9a",
        "outputId": "0c171ec8-95fd-49aa-f8d0-3710ce0a827b",
        "colab": {
          "base_uri": "https://localhost:8080/",
          "height": 34
        }
      },
      "source": [
        "if wielkosc >6:\n",
        "    print(\"ale duze\")\n",
        "elif wielkosc < 3:\n",
        "    print(\"malutkie\")\n",
        "    print('franek')\n",
        "else:\n",
        "    print(\"w sam raz\")"
      ],
      "execution_count": null,
      "outputs": [
        {
          "output_type": "stream",
          "text": [
            "w sam raz\n"
          ],
          "name": "stdout"
        }
      ]
    },
    {
      "cell_type": "code",
      "metadata": {
        "id": "22M_NGYohL9d",
        "outputId": "3d1354ee-f5e0-4015-9443-bf2cff155997",
        "colab": {
          "base_uri": "https://localhost:8080/",
          "height": 34
        }
      },
      "source": [
        "studenci = [\"Ania\", \"Zosia\", \"Kasia\", \"Franek\"]\n",
        "\n",
        "print(studenci)"
      ],
      "execution_count": null,
      "outputs": [
        {
          "output_type": "stream",
          "text": [
            "['Ania', 'Zosia', 'Kasia', 'Franek']\n"
          ],
          "name": "stdout"
        }
      ]
    },
    {
      "cell_type": "code",
      "metadata": {
        "id": "D3Ob0-WHhL9g",
        "outputId": "abe7f306-418a-4281-fa25-054f64e712f5"
      },
      "source": [
        "studenci[0][1]"
      ],
      "execution_count": null,
      "outputs": [
        {
          "output_type": "execute_result",
          "data": {
            "text/plain": [
              "'Ania'"
            ]
          },
          "metadata": {
            "tags": []
          },
          "execution_count": 16
        }
      ]
    },
    {
      "cell_type": "code",
      "metadata": {
        "scrolled": true,
        "id": "42_BCNg5hL9k",
        "outputId": "f63676db-1aa8-4ca8-8c39-1883d9ef706f",
        "colab": {
          "base_uri": "https://localhost:8080/",
          "height": 336
        }
      },
      "source": [
        "for student in studenci:\n",
        "    print(\"student ma na imie:\", student)\n",
        "    \n",
        "for student in studenci:\n",
        "    print(student)\n",
        "    if student[0]==\"A\":\n",
        "        print(\"student na poczatku alfabetu\")\n",
        "\n",
        "for numer in range(10):\n",
        "    print(numer)"
      ],
      "execution_count": null,
      "outputs": [
        {
          "output_type": "stream",
          "text": [
            "student ma na imie: Ania\n",
            "student ma na imie: Zosia\n",
            "student ma na imie: Kasia\n",
            "student ma na imie: Franek\n",
            "Ania\n",
            "student na poczatku alfabetu\n",
            "Zosia\n",
            "Kasia\n",
            "Franek\n",
            "0\n",
            "1\n",
            "2\n",
            "3\n",
            "4\n",
            "5\n",
            "6\n",
            "7\n",
            "8\n",
            "9\n"
          ],
          "name": "stdout"
        }
      ]
    },
    {
      "cell_type": "code",
      "metadata": {
        "id": "8lJuYUIDhL9n",
        "outputId": "8920eb80-a7d9-429d-d002-629831690812",
        "colab": {
          "base_uri": "https://localhost:8080/",
          "height": 84
        }
      },
      "source": [
        "for numer, student in enumerate(studenci):\n",
        "    print(\"student {} ma numer {}\".format(student,numer))"
      ],
      "execution_count": null,
      "outputs": [
        {
          "output_type": "stream",
          "text": [
            "student Ania ma numer 0\n",
            "student Zosia ma numer 1\n",
            "student Kasia ma numer 2\n",
            "student Franek ma numer 3\n"
          ],
          "name": "stdout"
        }
      ]
    },
    {
      "cell_type": "code",
      "metadata": {
        "id": "TxFxjCA5hL9q",
        "outputId": "209e7f02-ac3a-4026-c5b5-5a34a0a684c8"
      },
      "source": [
        "oceny = [2,2,5,3]\n",
        "\n",
        "for numer, student in enumerate(studenci):\n",
        "    print(\"student {} ma numer {} i ocenę {}\".format(student,numer,oceny[numer]))\n",
        "\n",
        "print(\"--\"*20)    \n",
        "for number, (student, ocena) in enumerate(zip(studenci,oceny)):\n",
        "    print(\"student {} ma numer {} i ocenę {}\".format(student,number,ocena))"
      ],
      "execution_count": null,
      "outputs": [
        {
          "output_type": "stream",
          "text": [
            "student Ania ma numer 0 i ocenę 2\n",
            "student Zosia ma numer 1 i ocenę 2\n",
            "student Kasia ma numer 2 i ocenę 5\n",
            "student Franek ma numer 3 i ocenę 3\n",
            "----------------------------------------\n",
            "student Ania ma numer 0 i ocenę 2\n",
            "student Zosia ma numer 1 i ocenę 2\n",
            "student Kasia ma numer 2 i ocenę 5\n",
            "student Franek ma numer 3 i ocenę 3\n"
          ],
          "name": "stdout"
        }
      ]
    },
    {
      "cell_type": "code",
      "metadata": {
        "id": "snXgEpIIhL9t"
      },
      "source": [
        "trzy_elementy= [1,2,3]\n",
        "pierwszy,drugi,trzeci= trzy_elementy"
      ],
      "execution_count": null,
      "outputs": []
    },
    {
      "cell_type": "code",
      "metadata": {
        "id": "xNPyxD3whL9x",
        "outputId": "c80c3f73-ca09-4414-8d4f-f9f2b75ff7b9"
      },
      "source": [
        "n = 1\n",
        "\n",
        "while(n < 10):\n",
        "    print(n)\n",
        "    n+=1"
      ],
      "execution_count": null,
      "outputs": [
        {
          "output_type": "stream",
          "text": [
            "1\n",
            "2\n",
            "3\n",
            "4\n",
            "5\n",
            "6\n",
            "7\n",
            "8\n",
            "9\n"
          ],
          "name": "stdout"
        }
      ]
    },
    {
      "cell_type": "code",
      "metadata": {
        "id": "_KVBrBY5hL90"
      },
      "source": [
        "def dodaj_dwa(liczba):\n",
        "    return liczba+2\n",
        "\n",
        "def dodaj_trzy(liczba):\n",
        "    return liczba+3\n",
        "\n",
        "def dodaj_dwie_liczby(liczba1,liczba2)\n",
        "    return liczba1+liczba2\n",
        "\n",
        "\n",
        "dodaj_cztery = lambda liczba:liczba+4"
      ],
      "execution_count": null,
      "outputs": []
    },
    {
      "cell_type": "code",
      "metadata": {
        "id": "vOyTCagrhL94",
        "outputId": "580d04cf-3ca9-4331-af9c-bb21ec436917"
      },
      "source": [
        "funkcje=[dodaj_dwa,dodaj_trzy,dodaj_cztery]\n",
        "\n",
        "jakis_nr= 10\n",
        "\n",
        "for funkcja in funkcje:\n",
        "    print(funkcja(jakis_nr))"
      ],
      "execution_count": null,
      "outputs": [
        {
          "output_type": "stream",
          "text": [
            "12\n",
            "13\n",
            "14\n"
          ],
          "name": "stdout"
        }
      ]
    },
    {
      "cell_type": "code",
      "metadata": {
        "id": "GPhz2JRThL98",
        "outputId": "88339747-b0fa-4c16-e2f7-57b9492d273d"
      },
      "source": [
        "studenci[0]\n",
        "studenci[1:]\n",
        "studenci[:-1]"
      ],
      "execution_count": null,
      "outputs": [
        {
          "output_type": "execute_result",
          "data": {
            "text/plain": [
              "['Ania', 'Zosia', 'Kasia']"
            ]
          },
          "metadata": {
            "tags": []
          },
          "execution_count": 35
        }
      ]
    },
    {
      "cell_type": "code",
      "metadata": {
        "id": "flJ1yHzMhL-E",
        "outputId": "9bf4df8a-56b5-4438-a959-2046dd1057ac",
        "colab": {
          "base_uri": "https://localhost:8080/",
          "height": 101
        }
      },
      "source": [
        "#### challenge 0.1\n",
        "\n",
        "zajecia = [\"wf\",\"informatyka\",\"relax\",\"mispy\",\"piateczek\"]\n",
        "\n",
        "dnityg= [\"Pon\",\"Wto\",\"Sro\",\"Czwar\",\"Pio\"]\n",
        "\n",
        "# wyprintuj zajecia od srody do piatku\n",
        "print(\"Zajęcia od środy do piątku:\", zajecia[2:])\n",
        "# wyprintuj oprocz srody\n",
        "for numerzajecia, nazwadnia in enumerate(dnityg):\n",
        "  if nazwadnia == 'Sro':\n",
        "    continue\n",
        "  else:\n",
        "    print(\"Zajecie: {}, Dzien tygodnia: {} \".format(zajecia[numerzajecia], nazwadnia))\n"
      ],
      "execution_count": null,
      "outputs": [
        {
          "output_type": "stream",
          "text": [
            "Zajęcia od środy do piątku: ['relax', 'mispy', 'piateczek']\n",
            "Zajecie: wf, Dzien tygodnia: Pon \n",
            "Zajecie: informatyka, Dzien tygodnia: Wto \n",
            "Zajecie: mispy, Dzien tygodnia: Czwar \n",
            "Zajecie: piateczek, Dzien tygodnia: Pio \n"
          ],
          "name": "stdout"
        }
      ]
    },
    {
      "cell_type": "code",
      "metadata": {
        "id": "fig5rvlChL-H",
        "outputId": "bd3eceb2-0856-4615-bd23-7297f2b66022",
        "colab": {
          "base_uri": "https://localhost:8080/",
          "height": 309
        }
      },
      "source": [
        "#### challenge 0.2\n",
        "\n",
        "zajecia = [[\"wf\"],\n",
        "           [\"informatyka\", \"nauka czytania\"],\n",
        "           [\"relax\", \"jedzenie\"],\n",
        "           [\"mispy\",\"mispy w domu\"],\n",
        "           [\"piateczek\", \"praca domowa z mispow\", \"Ilovemispy\", \"mispy w czasie snu\"]\n",
        "          ]\n",
        "\n",
        "dnityg= [\"Pon\",\"Wto\",\"Sro\",\"Czwar\",\"Pio\"]\n",
        "\n",
        "# zdefiniuj funkcje ktora poda ile jest zajec danego dnia\n",
        "def zlicz(zajecia,dnityg):\n",
        "  for liczbadni, daydzien in enumerate(dnityg):\n",
        "    print(\"Liczba zajęć w {} : {}\".format(daydzien, len(zajecia[liczbadni])))\n",
        "zlicz(zajecia,dnityg)\n",
        "print('---'*8)\n",
        "\n",
        "# lista_zajec_z_dnia -> ile ich jest\n",
        "def zlicz2(zajecia,dnityg):\n",
        "  for liczbadni, daydzien in enumerate(dnityg):\n",
        "    print(\"Zajęcia w {} (liczba zajęć {}) : {} \".format(daydzien, len(zajecia[liczbadni]), zajecia[liczbadni]))\n",
        "zlicz2(zajecia,dnityg)\n",
        "print('---'*8)\n",
        "\n",
        "# po\n",
        "# posortuj dni po najbardziej zajetych\n",
        "liczbazajecc = [0]*5\n",
        "for dziennumer,dziendzien in enumerate(dnityg):\n",
        "  liczbazajecc[dziennumer] = len(zajecia[dziennumer])\n",
        "zaj = list(zip(liczbazajecc,dnityg,zajecia))\n",
        "zaj = sorted(zaj, reverse=True)\n",
        "print(zaj)\n",
        "\n",
        "print('---'*8)\n",
        "#### challenge 0.3\n",
        "# napisz program ktory zdajdzie dzien z najwieksza iloscia mispow\n",
        "temp1 = [0]*5\n",
        "def zlicz3(zajecia,dnityg):\n",
        "  for liczbadni, daydzien in enumerate(dnityg):\n",
        "    temp1[liczbadni] = len(zajecia[liczbadni]) \n",
        "  print(\"Dzien z najwieksza iloscia zajec ({}) : {}\".format(max(temp1), daydzien,))\n",
        "zlicz3(zajecia,dnityg)\n",
        "print('---'*8)"
      ],
      "execution_count": null,
      "outputs": [
        {
          "output_type": "stream",
          "text": [
            "Liczba zajęć w Pon : 1\n",
            "Liczba zajęć w Wto : 2\n",
            "Liczba zajęć w Sro : 2\n",
            "Liczba zajęć w Czwar : 2\n",
            "Liczba zajęć w Pio : 4\n",
            "------------------------\n",
            "Zajęcia w Pon (liczba zajęć 1) : ['wf'] \n",
            "Zajęcia w Wto (liczba zajęć 2) : ['informatyka', 'nauka czytania'] \n",
            "Zajęcia w Sro (liczba zajęć 2) : ['relax', 'jedzenie'] \n",
            "Zajęcia w Czwar (liczba zajęć 2) : ['mispy', 'mispy w domu'] \n",
            "Zajęcia w Pio (liczba zajęć 4) : ['piateczek', 'praca domowa z mispow', 'Ilovemispy', 'mispy w czasie snu'] \n",
            "------------------------\n",
            "[(4, 'Pio', ['piateczek', 'praca domowa z mispow', 'Ilovemispy', 'mispy w czasie snu']), (2, 'Wto', ['informatyka', 'nauka czytania']), (2, 'Sro', ['relax', 'jedzenie']), (2, 'Czwar', ['mispy', 'mispy w domu']), (1, 'Pon', ['wf'])]\n",
            "------------------------\n",
            "Dzien z najwieksza iloscia zajec (4) : Pio\n",
            "------------------------\n"
          ],
          "name": "stdout"
        }
      ]
    },
    {
      "cell_type": "code",
      "metadata": {
        "id": "XgdOcr4rNLjX"
      },
      "source": [
        ""
      ],
      "execution_count": null,
      "outputs": []
    },
    {
      "cell_type": "code",
      "metadata": {
        "id": "eIliqj1AhL-K",
        "outputId": "340138e2-c67e-407b-a69f-de361e4e2504"
      },
      "source": [
        "len(zajecia)\n",
        "\n",
        "zajecia[4][1]\n",
        "\n",
        "\"Ma\" in \"MojaMaMa\"\n",
        "\n",
        "liczby=[\"22\",\"11\",\"33\",\"100\"]\n",
        "liczby_i_nazwy= [(\"22\",\"dwadziescia dwa\"),\n",
        "                 (\"11\",\"jedenascie\"),\n",
        "        (\"33\",\"trzydziesci trzy\"),(\"100\",\"sto\")]\n",
        "sorted(liczby)\n",
        "\n",
        "sorted(liczby, key=int)\n",
        "\n",
        "liczby_kolejnosc= enumerate(liczby)\n",
        "\n",
        "def czy_jest_jeden(liczba):\n",
        "\n",
        "    if \"1\" in liczba:\n",
        "        return 1\n",
        "    else:\n",
        "        return 0\n",
        "def na_liczbe(krotka):\n",
        "         return int(krotka[0])\n",
        "def na_liczbe_index(krotka):\n",
        "         return int(krotka[1])    \n",
        "sorted(liczby, key=czy_jest_jeden)\n",
        "         \n",
        "sorted(liczby_i_nazwy,key=na_liczbe)\n",
        "\n",
        "sorted(liczby_kolejnosc,key=na_liczbe_index)"
      ],
      "execution_count": null,
      "outputs": [
        {
          "output_type": "execute_result",
          "data": {
            "text/plain": [
              "[(1, '11'), (0, '22'), (2, '33'), (3, '100')]"
            ]
          },
          "metadata": {
            "tags": []
          },
          "execution_count": 51
        }
      ]
    },
    {
      "cell_type": "code",
      "metadata": {
        "id": "ir7GFG6ChL-N",
        "outputId": "c5664904-59c8-42e8-f88d-97e7449cfafc"
      },
      "source": [
        "sorted(liczby_kolejnosc,key=)"
      ],
      "execution_count": null,
      "outputs": [
        {
          "output_type": "execute_result",
          "data": {
            "text/plain": [
              "<enumerate at 0x7f5efea012d0>"
            ]
          },
          "metadata": {
            "tags": []
          },
          "execution_count": 48
        }
      ]
    },
    {
      "cell_type": "code",
      "metadata": {
        "id": "6SG5iwKWhL-R"
      },
      "source": [
        ""
      ],
      "execution_count": null,
      "outputs": []
    }
  ]
}