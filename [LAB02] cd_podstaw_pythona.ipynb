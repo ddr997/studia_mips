{
  "nbformat": 4,
  "nbformat_minor": 0,
  "metadata": {
    "kernelspec": {
      "display_name": "Python 3",
      "language": "python",
      "name": "python3"
    },
    "language_info": {
      "codemirror_mode": {
        "name": "ipython",
        "version": 3
      },
      "file_extension": ".py",
      "mimetype": "text/x-python",
      "name": "python",
      "nbconvert_exporter": "python",
      "pygments_lexer": "ipython3",
      "version": "3.7.3"
    },
    "colab": {
      "name": "cd_podstaw_pythona.ipynb",
      "provenance": []
    }
  },
  "cells": [
    {
      "cell_type": "code",
      "metadata": {
        "id": "nIFADyCieJJR"
      },
      "source": [
        "import numpy as np \n",
        "#zamienia python na matlab? macierz -> array"
      ],
      "execution_count": null,
      "outputs": []
    },
    {
      "cell_type": "code",
      "metadata": {
        "id": "1UncFGkBeJJV"
      },
      "source": [
        "a_list= [1,2,3,4,5, [1,2,3], \"temat\"] # nie idealna lista a_\n",
        "k_krotka = (1,2,3,4,5, [1,2,3], \"temat\") # krotka, przechowuje dowolne zmienne\n",
        "b_list = [1,2,3,4,5] # poprawna lista\n",
        "n_array = np.array(b_list) # wektor numpy\n"
      ],
      "execution_count": null,
      "outputs": []
    },
    {
      "cell_type": "code",
      "metadata": {
        "id": "xuUVTPRMeJJY",
        "outputId": "7c02b403-1a2a-4e6d-8d25-3cbbc26a93a3",
        "colab": {
          "base_uri": "https://localhost:8080/",
          "height": 51
        }
      },
      "source": [
        "print(a_list+b_list) #dorzuca na koniec, tak samo ze stringami\n",
        "print(n_array+n_array) #sumowanie wektorów"
      ],
      "execution_count": null,
      "outputs": [
        {
          "output_type": "stream",
          "text": [
            "[1, 2, 3, 4, 5, [1, 2, 3], 'temat', 1, 2, 3, 4, 5]\n",
            "[ 2  4  6  8 10]\n"
          ],
          "name": "stdout"
        }
      ]
    },
    {
      "cell_type": "code",
      "metadata": {
        "id": "4PHhS0RdeJJd",
        "outputId": "02f0c7d0-74f4-4e26-af9a-5c8426d5a790",
        "colab": {
          "base_uri": "https://localhost:8080/",
          "height": 34
        }
      },
      "source": [
        "a_list[3]"
      ],
      "execution_count": null,
      "outputs": [
        {
          "output_type": "execute_result",
          "data": {
            "text/plain": [
              "4"
            ]
          },
          "metadata": {
            "tags": []
          },
          "execution_count": 4
        }
      ]
    },
    {
      "cell_type": "code",
      "metadata": {
        "id": "leDDH_-6eJJg",
        "outputId": "4b038d59-f66d-41a3-c349-9af0c704dad7",
        "colab": {
          "base_uri": "https://localhost:8080/",
          "height": 34
        }
      },
      "source": [
        "a_list.append(100) #wyrzuca liste dopisując na końcu argument, nie działa z krotką\n",
        "print(a_list)"
      ],
      "execution_count": null,
      "outputs": [
        {
          "output_type": "stream",
          "text": [
            "[1, 2, 3, 4, 5, [1, 2, 3], 'temat', 100]\n"
          ],
          "name": "stdout"
        }
      ]
    },
    {
      "cell_type": "code",
      "metadata": {
        "id": "XmjW33WTeJJj",
        "outputId": "34bfed49-1ae1-4ef2-be65-780b3a65ced2",
        "colab": {
          "base_uri": "https://localhost:8080/",
          "height": 34
        }
      },
      "source": [
        "k_krotka[4]"
      ],
      "execution_count": null,
      "outputs": [
        {
          "output_type": "execute_result",
          "data": {
            "text/plain": [
              "5"
            ]
          },
          "metadata": {
            "tags": []
          },
          "execution_count": 6
        }
      ]
    },
    {
      "cell_type": "code",
      "metadata": {
        "id": "VKb8XgnNgG3i",
        "outputId": "61d9764a-6555-4c16-a0ab-99f9e6ce1aa5",
        "colab": {
          "base_uri": "https://localhost:8080/",
          "height": 34
        }
      },
      "source": [
        "k_krotka[5].append(1) #nie mozna dodawac i usuwac elementow krotki, ale elementy mozna zmieniac\n",
        "print(k_krotka)\n",
        "# W KROTKACH NIE MOZNA USUWAĆ ELEMENTÓ"
      ],
      "execution_count": null,
      "outputs": [
        {
          "output_type": "stream",
          "text": [
            "(1, 2, 3, 4, 5, [1, 2, 3, 1, 1, 1], 'temat')\n"
          ],
          "name": "stdout"
        }
      ]
    },
    {
      "cell_type": "code",
      "metadata": {
        "id": "Nw4EKofTeJJm",
        "outputId": "24990ed4-6feb-450e-a244-585b900ca9ff",
        "colab": {
          "base_uri": "https://localhost:8080/",
          "height": 163
        }
      },
      "source": [
        "k_krotka.append(100)"
      ],
      "execution_count": null,
      "outputs": [
        {
          "output_type": "error",
          "ename": "AttributeError",
          "evalue": "ignored",
          "traceback": [
            "\u001b[0;31m---------------------------------------------------------------------------\u001b[0m",
            "\u001b[0;31mAttributeError\u001b[0m                            Traceback (most recent call last)",
            "\u001b[0;32m<ipython-input-15-4da2f0146474>\u001b[0m in \u001b[0;36m<module>\u001b[0;34m()\u001b[0m\n\u001b[0;32m----> 1\u001b[0;31m \u001b[0mk_krotka\u001b[0m\u001b[0;34m.\u001b[0m\u001b[0mappend\u001b[0m\u001b[0;34m(\u001b[0m\u001b[0;36m100\u001b[0m\u001b[0;34m)\u001b[0m\u001b[0;34m\u001b[0m\u001b[0;34m\u001b[0m\u001b[0m\n\u001b[0m",
            "\u001b[0;31mAttributeError\u001b[0m: 'tuple' object has no attribute 'append'"
          ]
        }
      ]
    },
    {
      "cell_type": "code",
      "metadata": {
        "id": "0W-gplhFeJJq",
        "outputId": "69d3070a-c738-4d8d-e207-eca13a862eff",
        "colab": {
          "base_uri": "https://localhost:8080/",
          "height": 34
        }
      },
      "source": [
        "suma = np.array(b_list)+np.array(b_list)\n",
        "suma.dtype"
      ],
      "execution_count": null,
      "outputs": [
        {
          "output_type": "execute_result",
          "data": {
            "text/plain": [
              "dtype('int64')"
            ]
          },
          "metadata": {
            "tags": []
          },
          "execution_count": 21
        }
      ]
    },
    {
      "cell_type": "code",
      "metadata": {
        "id": "CL_Rqe2geJJv"
      },
      "source": [
        "n_array = np.array(a_list) # wektor numpy / Gdy wektor nie jest tylko z tego samego typu, to np tworzy typ \"obiekt\", który wolniej jest obrabiany"
      ],
      "execution_count": null,
      "outputs": []
    },
    {
      "cell_type": "code",
      "metadata": {
        "id": "iJafRnz5eJJy",
        "outputId": "fd84b749-cc78-410e-a512-f0446b06deac",
        "colab": {
          "base_uri": "https://localhost:8080/",
          "height": 34
        }
      },
      "source": [
        "n_array"
      ],
      "execution_count": null,
      "outputs": [
        {
          "output_type": "execute_result",
          "data": {
            "text/plain": [
              "array([1, 2, 3, 4, 5, list([1, 2, 3]), 'temat', 100, 3, 100], dtype=object)"
            ]
          },
          "metadata": {
            "tags": []
          },
          "execution_count": 25
        }
      ]
    },
    {
      "cell_type": "code",
      "metadata": {
        "id": "090UbNnqeJJ2"
      },
      "source": [
        "#### Nowosci\n",
        "\n",
        "studenci_slownik = {123: 123,\"Igor\":3, \"Frankek\":5, \"Zosia\":22,\"Julia\":[2,21], (1,2):\"Krotka\"} # słownik, pierwszy to klucz, drugi to value np -> igor przypisujemy 3\n",
        "# po : moze byc dowolny obiekt, przed : musi być coś co jest hashowalne (stwierdzenie, ze to ten sam obiekt), kluczem nie moze byc lista"
      ],
      "execution_count": null,
      "outputs": []
    },
    {
      "cell_type": "code",
      "metadata": {
        "id": "cw3HrKyYeJJ6",
        "outputId": "90b683fe-f160-4fd4-a880-bba775f98a04",
        "colab": {
          "base_uri": "https://localhost:8080/",
          "height": 34
        }
      },
      "source": [
        "print(studenci_slownik)"
      ],
      "execution_count": null,
      "outputs": [
        {
          "output_type": "stream",
          "text": [
            "{123: 123, 'Igor': 3, 'Frankek': 5, 'Zosia': 22, 'Julia': [2, 21], (1, 2): 'Krotka', 'Franek': 111}\n"
          ],
          "name": "stdout"
        }
      ]
    },
    {
      "cell_type": "code",
      "metadata": {
        "id": "yJUxv34BeJJ-",
        "outputId": "3a22286f-b031-40b1-9209-9419409167a4",
        "colab": {
          "base_uri": "https://localhost:8080/",
          "height": 34
        }
      },
      "source": [
        "studenci_slownik[\"Zosia\"]"
      ],
      "execution_count": null,
      "outputs": [
        {
          "output_type": "execute_result",
          "data": {
            "text/plain": [
              "22"
            ]
          },
          "metadata": {
            "tags": []
          },
          "execution_count": 30
        }
      ]
    },
    {
      "cell_type": "code",
      "metadata": {
        "id": "PnjXN32hh0Hv"
      },
      "source": [
        "studenci_slownik[\"Franek\"] = 111"
      ],
      "execution_count": null,
      "outputs": []
    },
    {
      "cell_type": "code",
      "metadata": {
        "id": "gje7Hn0AeJKC",
        "outputId": "5f98490a-28a7-4a84-853f-d68bff491737",
        "colab": {
          "base_uri": "https://localhost:8080/",
          "height": 272
        }
      },
      "source": [
        "for elementy in studenci_slownik:\n",
        "    print(elementy)\n",
        "\n",
        "print(\"*\"*20)\n",
        "for elementy in studenci_slownik.keys():\n",
        "    print(elementy)"
      ],
      "execution_count": null,
      "outputs": [
        {
          "output_type": "stream",
          "text": [
            "123\n",
            "Igor\n",
            "Frankek\n",
            "Zosia\n",
            "Julia\n",
            "(1, 2)\n",
            "Franek\n",
            "********************\n",
            "123\n",
            "Igor\n",
            "Frankek\n",
            "Zosia\n",
            "Julia\n",
            "(1, 2)\n",
            "Franek\n"
          ],
          "name": "stdout"
        }
      ]
    },
    {
      "cell_type": "code",
      "metadata": {
        "id": "dt9BNdNteJKF",
        "outputId": "ecf693be-769d-43a4-ed15-94c6b00071f6",
        "colab": {
          "base_uri": "https://localhost:8080/",
          "height": 136
        }
      },
      "source": [
        "for elementy in studenci_slownik.items():\n",
        "    print(elementy)"
      ],
      "execution_count": null,
      "outputs": [
        {
          "output_type": "stream",
          "text": [
            "(123, 123)\n",
            "('Igor', 3)\n",
            "('Frankek', 5)\n",
            "('Zosia', 22)\n",
            "('Julia', [2, 21])\n",
            "((1, 2), 'Krotka')\n",
            "('Franek', 111)\n"
          ],
          "name": "stdout"
        }
      ]
    },
    {
      "cell_type": "code",
      "metadata": {
        "id": "1_5_CFpYeJKH",
        "outputId": "264dbbdb-74ec-4866-929d-6d7122d39e4f",
        "colab": {
          "base_uri": "https://localhost:8080/",
          "height": 136
        }
      },
      "source": [
        "for elementy in studenci_slownik.values():\n",
        "    print(elementy)"
      ],
      "execution_count": null,
      "outputs": [
        {
          "output_type": "stream",
          "text": [
            "123\n",
            "3\n",
            "5\n",
            "22\n",
            "[2, 21]\n",
            "Krotka\n",
            "111\n"
          ],
          "name": "stdout"
        }
      ]
    },
    {
      "cell_type": "code",
      "metadata": {
        "id": "L_sQFR10iuQm",
        "outputId": "39b1a1a6-1fcc-4218-d594-018927861eef",
        "colab": {
          "base_uri": "https://localhost:8080/",
          "height": 136
        }
      },
      "source": [
        "for imie,klucz in studenci_slownik.items():\n",
        "  print(\"{} ma ocene {}\".format(imie,klucz))"
      ],
      "execution_count": null,
      "outputs": [
        {
          "output_type": "stream",
          "text": [
            "123 ma ocene 123\n",
            "Igor ma ocene 3\n",
            "Frankek ma ocene 5\n",
            "Zosia ma ocene 22\n",
            "Julia ma ocene [2, 21]\n",
            "(1, 2) ma ocene Krotka\n",
            "Franek ma ocene 111\n"
          ],
          "name": "stdout"
        }
      ]
    },
    {
      "cell_type": "code",
      "metadata": {
        "id": "zmMhM__seJKK"
      },
      "source": [
        "studenci_slownik[\"Cuthulu\"]= -1000000"
      ],
      "execution_count": null,
      "outputs": []
    },
    {
      "cell_type": "code",
      "metadata": {
        "id": "DqojXlCgeJKN",
        "outputId": "36e17e90-bd57-4c8e-ec8b-687e0b166e3f",
        "colab": {
          "base_uri": "https://localhost:8080/",
          "height": 136
        }
      },
      "source": [
        "studenci_slownik"
      ],
      "execution_count": null,
      "outputs": [
        {
          "output_type": "execute_result",
          "data": {
            "text/plain": [
              "{(1, 2): 'Krotka',\n",
              " 123: 123,\n",
              " 'Franek': 111,\n",
              " 'Frankek': 5,\n",
              " 'Igor': 3,\n",
              " 'Julia': [2, 21],\n",
              " 'Zosia': 22}"
            ]
          },
          "metadata": {
            "tags": []
          },
          "execution_count": 40
        }
      ]
    },
    {
      "cell_type": "code",
      "metadata": {
        "id": "Xm3Z1SNFjTDY",
        "outputId": "314c112b-f7f5-4ba0-bab8-231f1390cbca",
        "colab": {
          "base_uri": "https://localhost:8080/",
          "height": 34
        }
      },
      "source": [
        "stara_lista = ['Ja','Ty','on','Ona']\n",
        "nowa_lista = [imie for imie in stara_lista if imie[0].isupper()]\n",
        "\n",
        "print(nowa_lista)"
      ],
      "execution_count": null,
      "outputs": [
        {
          "output_type": "stream",
          "text": [
            "['Ja', 'Ty', 'Ona']\n"
          ],
          "name": "stdout"
        }
      ]
    },
    {
      "cell_type": "code",
      "metadata": {
        "id": "TAmCxKa8eJKS",
        "outputId": "d07c30d0-58a1-49bf-e517-3b956f5cf929",
        "colab": {
          "base_uri": "https://localhost:8080/",
          "height": 71
        }
      },
      "source": [
        "automatyczna_lista=[liczba**2 for liczba in range(100) if liczba%4==0]\n",
        "print(automatyczna_lista)\n",
        "\n",
        "automatyczna_lista_pary=[(liczba,liczba**2) for liczba in range(100) if liczba%4==0]\n",
        "print(automatyczna_lista_pary)"
      ],
      "execution_count": null,
      "outputs": [
        {
          "output_type": "stream",
          "text": [
            "[0, 16, 64, 144, 256, 400, 576, 784, 1024, 1296, 1600, 1936, 2304, 2704, 3136, 3600, 4096, 4624, 5184, 5776, 6400, 7056, 7744, 8464, 9216]\n",
            "[(0, 0), (4, 16), (8, 64), (12, 144), (16, 256), (20, 400), (24, 576), (28, 784), (32, 1024), (36, 1296), (40, 1600), (44, 1936), (48, 2304), (52, 2704), (56, 3136), (60, 3600), (64, 4096), (68, 4624), (72, 5184), (76, 5776), (80, 6400), (84, 7056), (88, 7744), (92, 8464), (96, 9216)]\n"
          ],
          "name": "stdout"
        }
      ]
    },
    {
      "cell_type": "code",
      "metadata": {
        "id": "-q7T1jgKeJKW",
        "outputId": "639edac1-794d-4dc8-d4ed-69d35bda8d4a",
        "colab": {
          "base_uri": "https://localhost:8080/",
          "height": 34
        }
      },
      "source": [
        "studenci = studenci_slownik.keys()\n",
        "automatyczny_slownik=dict(para for para in enumerate(studenci))\n",
        "print(automatyczny_slownik)"
      ],
      "execution_count": null,
      "outputs": [
        {
          "output_type": "stream",
          "text": [
            "{0: 123, 1: 'Igor', 2: 'Frankek', 3: 'Zosia', 4: 'Julia', 5: (1, 2), 6: 'Franek'}\n"
          ],
          "name": "stdout"
        }
      ]
    },
    {
      "cell_type": "code",
      "metadata": {
        "id": "JitCASpDk77Y",
        "outputId": "e17b2430-b811-46ff-87a8-d248005f62b4",
        "colab": {
          "base_uri": "https://localhost:8080/",
          "height": 51
        }
      },
      "source": [
        "print(studenci_slownik)\n",
        "print(\"Igor\" in studenci_slownik)"
      ],
      "execution_count": null,
      "outputs": [
        {
          "output_type": "stream",
          "text": [
            "{123: 123, 'Igor': 3, 'Frankek': 5, 'Zosia': 22, 'Julia': [2, 21], (1, 2): 'Krotka', 'Franek': 111}\n",
            "True\n"
          ],
          "name": "stdout"
        }
      ]
    },
    {
      "cell_type": "code",
      "metadata": {
        "id": "RYKZNw3GeJKY"
      },
      "source": [
        "##### zbiory\n",
        "\n",
        "a={1,2,3,\"Franek\"}\n",
        "b={2,3,4,\"Franek\"}\n"
      ],
      "execution_count": null,
      "outputs": []
    },
    {
      "cell_type": "code",
      "metadata": {
        "id": "R5szFDNFeJKb",
        "outputId": "c35edf92-6f67-458c-d585-a80d99896356",
        "colab": {
          "base_uri": "https://localhost:8080/",
          "height": 34
        }
      },
      "source": [
        "a|b #suma zbiorów, sum of sets"
      ],
      "execution_count": null,
      "outputs": [
        {
          "output_type": "execute_result",
          "data": {
            "text/plain": [
              "{1, 2, 3, 4, 'Franek'}"
            ]
          },
          "metadata": {
            "tags": []
          },
          "execution_count": 49
        }
      ]
    },
    {
      "cell_type": "code",
      "metadata": {
        "id": "zkmxhsyoeJKf",
        "outputId": "947d9f21-45de-41e4-82a4-e52e0084ddaa",
        "colab": {
          "base_uri": "https://localhost:8080/",
          "height": 34
        }
      },
      "source": [
        "a.add(\"Franek\")\n",
        "print(a)"
      ],
      "execution_count": null,
      "outputs": [
        {
          "output_type": "stream",
          "text": [
            "{'Franek', 1, 2, 3}\n"
          ],
          "name": "stdout"
        }
      ]
    },
    {
      "cell_type": "code",
      "metadata": {
        "id": "8pREHUMteJKj",
        "outputId": "29c07dc0-684b-4a74-8967-3526d57d8fb6",
        "colab": {
          "base_uri": "https://localhost:8080/",
          "height": 34
        }
      },
      "source": [
        "1 in a\n",
        "\"Igor\" in studenci_slownik"
      ],
      "execution_count": null,
      "outputs": [
        {
          "output_type": "execute_result",
          "data": {
            "text/plain": [
              "True"
            ]
          },
          "metadata": {
            "tags": []
          },
          "execution_count": 51
        }
      ]
    },
    {
      "cell_type": "code",
      "metadata": {
        "id": "rhoe5mRHlxEL",
        "outputId": "002d6c82-fa0a-4758-e5f7-4b3c2a52501c",
        "colab": {
          "base_uri": "https://localhost:8080/",
          "height": 105
        }
      },
      "source": [
        "studenci_lista = [\"Igor_model_\"+str(nr) for nr in range(100)]\n",
        "print(studenci_lista)\n",
        "\n",
        "studenci_set = set(studenci_lista)\n",
        "print(studenci_set)\n",
        "\n",
        "powtarzajaca_lista = [\"Igor\" for el in range(1000)]\n",
        "print(powtarzajaca_lista)\n",
        "print(set(powtarzajaca_lista))"
      ],
      "execution_count": null,
      "outputs": [
        {
          "output_type": "stream",
          "text": [
            "['Igor_model_0', 'Igor_model_1', 'Igor_model_2', 'Igor_model_3', 'Igor_model_4', 'Igor_model_5', 'Igor_model_6', 'Igor_model_7', 'Igor_model_8', 'Igor_model_9', 'Igor_model_10', 'Igor_model_11', 'Igor_model_12', 'Igor_model_13', 'Igor_model_14', 'Igor_model_15', 'Igor_model_16', 'Igor_model_17', 'Igor_model_18', 'Igor_model_19', 'Igor_model_20', 'Igor_model_21', 'Igor_model_22', 'Igor_model_23', 'Igor_model_24', 'Igor_model_25', 'Igor_model_26', 'Igor_model_27', 'Igor_model_28', 'Igor_model_29', 'Igor_model_30', 'Igor_model_31', 'Igor_model_32', 'Igor_model_33', 'Igor_model_34', 'Igor_model_35', 'Igor_model_36', 'Igor_model_37', 'Igor_model_38', 'Igor_model_39', 'Igor_model_40', 'Igor_model_41', 'Igor_model_42', 'Igor_model_43', 'Igor_model_44', 'Igor_model_45', 'Igor_model_46', 'Igor_model_47', 'Igor_model_48', 'Igor_model_49', 'Igor_model_50', 'Igor_model_51', 'Igor_model_52', 'Igor_model_53', 'Igor_model_54', 'Igor_model_55', 'Igor_model_56', 'Igor_model_57', 'Igor_model_58', 'Igor_model_59', 'Igor_model_60', 'Igor_model_61', 'Igor_model_62', 'Igor_model_63', 'Igor_model_64', 'Igor_model_65', 'Igor_model_66', 'Igor_model_67', 'Igor_model_68', 'Igor_model_69', 'Igor_model_70', 'Igor_model_71', 'Igor_model_72', 'Igor_model_73', 'Igor_model_74', 'Igor_model_75', 'Igor_model_76', 'Igor_model_77', 'Igor_model_78', 'Igor_model_79', 'Igor_model_80', 'Igor_model_81', 'Igor_model_82', 'Igor_model_83', 'Igor_model_84', 'Igor_model_85', 'Igor_model_86', 'Igor_model_87', 'Igor_model_88', 'Igor_model_89', 'Igor_model_90', 'Igor_model_91', 'Igor_model_92', 'Igor_model_93', 'Igor_model_94', 'Igor_model_95', 'Igor_model_96', 'Igor_model_97', 'Igor_model_98', 'Igor_model_99']\n",
            "{'Igor_model_85', 'Igor_model_30', 'Igor_model_6', 'Igor_model_22', 'Igor_model_54', 'Igor_model_71', 'Igor_model_76', 'Igor_model_79', 'Igor_model_77', 'Igor_model_46', 'Igor_model_43', 'Igor_model_74', 'Igor_model_81', 'Igor_model_45', 'Igor_model_68', 'Igor_model_73', 'Igor_model_44', 'Igor_model_58', 'Igor_model_17', 'Igor_model_27', 'Igor_model_84', 'Igor_model_40', 'Igor_model_86', 'Igor_model_32', 'Igor_model_69', 'Igor_model_91', 'Igor_model_14', 'Igor_model_18', 'Igor_model_38', 'Igor_model_39', 'Igor_model_82', 'Igor_model_34', 'Igor_model_95', 'Igor_model_99', 'Igor_model_66', 'Igor_model_23', 'Igor_model_11', 'Igor_model_88', 'Igor_model_35', 'Igor_model_83', 'Igor_model_9', 'Igor_model_19', 'Igor_model_0', 'Igor_model_49', 'Igor_model_62', 'Igor_model_2', 'Igor_model_3', 'Igor_model_47', 'Igor_model_21', 'Igor_model_63', 'Igor_model_26', 'Igor_model_94', 'Igor_model_10', 'Igor_model_97', 'Igor_model_41', 'Igor_model_57', 'Igor_model_59', 'Igor_model_28', 'Igor_model_5', 'Igor_model_50', 'Igor_model_48', 'Igor_model_70', 'Igor_model_56', 'Igor_model_16', 'Igor_model_12', 'Igor_model_60', 'Igor_model_52', 'Igor_model_8', 'Igor_model_7', 'Igor_model_20', 'Igor_model_72', 'Igor_model_65', 'Igor_model_15', 'Igor_model_55', 'Igor_model_51', 'Igor_model_42', 'Igor_model_37', 'Igor_model_36', 'Igor_model_1', 'Igor_model_61', 'Igor_model_4', 'Igor_model_80', 'Igor_model_53', 'Igor_model_33', 'Igor_model_24', 'Igor_model_31', 'Igor_model_89', 'Igor_model_92', 'Igor_model_13', 'Igor_model_25', 'Igor_model_98', 'Igor_model_67', 'Igor_model_90', 'Igor_model_75', 'Igor_model_78', 'Igor_model_93', 'Igor_model_29', 'Igor_model_64', 'Igor_model_87', 'Igor_model_96'}\n",
            "['Igor', 'Igor', 'Igor', 'Igor', 'Igor', 'Igor', 'Igor', 'Igor', 'Igor', 'Igor', 'Igor', 'Igor', 'Igor', 'Igor', 'Igor', 'Igor', 'Igor', 'Igor', 'Igor', 'Igor', 'Igor', 'Igor', 'Igor', 'Igor', 'Igor', 'Igor', 'Igor', 'Igor', 'Igor', 'Igor', 'Igor', 'Igor', 'Igor', 'Igor', 'Igor', 'Igor', 'Igor', 'Igor', 'Igor', 'Igor', 'Igor', 'Igor', 'Igor', 'Igor', 'Igor', 'Igor', 'Igor', 'Igor', 'Igor', 'Igor', 'Igor', 'Igor', 'Igor', 'Igor', 'Igor', 'Igor', 'Igor', 'Igor', 'Igor', 'Igor', 'Igor', 'Igor', 'Igor', 'Igor', 'Igor', 'Igor', 'Igor', 'Igor', 'Igor', 'Igor', 'Igor', 'Igor', 'Igor', 'Igor', 'Igor', 'Igor', 'Igor', 'Igor', 'Igor', 'Igor', 'Igor', 'Igor', 'Igor', 'Igor', 'Igor', 'Igor', 'Igor', 'Igor', 'Igor', 'Igor', 'Igor', 'Igor', 'Igor', 'Igor', 'Igor', 'Igor', 'Igor', 'Igor', 'Igor', 'Igor', 'Igor', 'Igor', 'Igor', 'Igor', 'Igor', 'Igor', 'Igor', 'Igor', 'Igor', 'Igor', 'Igor', 'Igor', 'Igor', 'Igor', 'Igor', 'Igor', 'Igor', 'Igor', 'Igor', 'Igor', 'Igor', 'Igor', 'Igor', 'Igor', 'Igor', 'Igor', 'Igor', 'Igor', 'Igor', 'Igor', 'Igor', 'Igor', 'Igor', 'Igor', 'Igor', 'Igor', 'Igor', 'Igor', 'Igor', 'Igor', 'Igor', 'Igor', 'Igor', 'Igor', 'Igor', 'Igor', 'Igor', 'Igor', 'Igor', 'Igor', 'Igor', 'Igor', 'Igor', 'Igor', 'Igor', 'Igor', 'Igor', 'Igor', 'Igor', 'Igor', 'Igor', 'Igor', 'Igor', 'Igor', 'Igor', 'Igor', 'Igor', 'Igor', 'Igor', 'Igor', 'Igor', 'Igor', 'Igor', 'Igor', 'Igor', 'Igor', 'Igor', 'Igor', 'Igor', 'Igor', 'Igor', 'Igor', 'Igor', 'Igor', 'Igor', 'Igor', 'Igor', 'Igor', 'Igor', 'Igor', 'Igor', 'Igor', 'Igor', 'Igor', 'Igor', 'Igor', 'Igor', 'Igor', 'Igor', 'Igor', 'Igor', 'Igor', 'Igor', 'Igor', 'Igor', 'Igor', 'Igor', 'Igor', 'Igor', 'Igor', 'Igor', 'Igor', 'Igor', 'Igor', 'Igor', 'Igor', 'Igor', 'Igor', 'Igor', 'Igor', 'Igor', 'Igor', 'Igor', 'Igor', 'Igor', 'Igor', 'Igor', 'Igor', 'Igor', 'Igor', 'Igor', 'Igor', 'Igor', 'Igor', 'Igor', 'Igor', 'Igor', 'Igor', 'Igor', 'Igor', 'Igor', 'Igor', 'Igor', 'Igor', 'Igor', 'Igor', 'Igor', 'Igor', 'Igor', 'Igor', 'Igor', 'Igor', 'Igor', 'Igor', 'Igor', 'Igor', 'Igor', 'Igor', 'Igor', 'Igor', 'Igor', 'Igor', 'Igor', 'Igor', 'Igor', 'Igor', 'Igor', 'Igor', 'Igor', 'Igor', 'Igor', 'Igor', 'Igor', 'Igor', 'Igor', 'Igor', 'Igor', 'Igor', 'Igor', 'Igor', 'Igor', 'Igor', 'Igor', 'Igor', 'Igor', 'Igor', 'Igor', 'Igor', 'Igor', 'Igor', 'Igor', 'Igor', 'Igor', 'Igor', 'Igor', 'Igor', 'Igor', 'Igor', 'Igor', 'Igor', 'Igor', 'Igor', 'Igor', 'Igor', 'Igor', 'Igor', 'Igor', 'Igor', 'Igor', 'Igor', 'Igor', 'Igor', 'Igor', 'Igor', 'Igor', 'Igor', 'Igor', 'Igor', 'Igor', 'Igor', 'Igor', 'Igor', 'Igor', 'Igor', 'Igor', 'Igor', 'Igor', 'Igor', 'Igor', 'Igor', 'Igor', 'Igor', 'Igor', 'Igor', 'Igor', 'Igor', 'Igor', 'Igor', 'Igor', 'Igor', 'Igor', 'Igor', 'Igor', 'Igor', 'Igor', 'Igor', 'Igor', 'Igor', 'Igor', 'Igor', 'Igor', 'Igor', 'Igor', 'Igor', 'Igor', 'Igor', 'Igor', 'Igor', 'Igor', 'Igor', 'Igor', 'Igor', 'Igor', 'Igor', 'Igor', 'Igor', 'Igor', 'Igor', 'Igor', 'Igor', 'Igor', 'Igor', 'Igor', 'Igor', 'Igor', 'Igor', 'Igor', 'Igor', 'Igor', 'Igor', 'Igor', 'Igor', 'Igor', 'Igor', 'Igor', 'Igor', 'Igor', 'Igor', 'Igor', 'Igor', 'Igor', 'Igor', 'Igor', 'Igor', 'Igor', 'Igor', 'Igor', 'Igor', 'Igor', 'Igor', 'Igor', 'Igor', 'Igor', 'Igor', 'Igor', 'Igor', 'Igor', 'Igor', 'Igor', 'Igor', 'Igor', 'Igor', 'Igor', 'Igor', 'Igor', 'Igor', 'Igor', 'Igor', 'Igor', 'Igor', 'Igor', 'Igor', 'Igor', 'Igor', 'Igor', 'Igor', 'Igor', 'Igor', 'Igor', 'Igor', 'Igor', 'Igor', 'Igor', 'Igor', 'Igor', 'Igor', 'Igor', 'Igor', 'Igor', 'Igor', 'Igor', 'Igor', 'Igor', 'Igor', 'Igor', 'Igor', 'Igor', 'Igor', 'Igor', 'Igor', 'Igor', 'Igor', 'Igor', 'Igor', 'Igor', 'Igor', 'Igor', 'Igor', 'Igor', 'Igor', 'Igor', 'Igor', 'Igor', 'Igor', 'Igor', 'Igor', 'Igor', 'Igor', 'Igor', 'Igor', 'Igor', 'Igor', 'Igor', 'Igor', 'Igor', 'Igor', 'Igor', 'Igor', 'Igor', 'Igor', 'Igor', 'Igor', 'Igor', 'Igor', 'Igor', 'Igor', 'Igor', 'Igor', 'Igor', 'Igor', 'Igor', 'Igor', 'Igor', 'Igor', 'Igor', 'Igor', 'Igor', 'Igor', 'Igor', 'Igor', 'Igor', 'Igor', 'Igor', 'Igor', 'Igor', 'Igor', 'Igor', 'Igor', 'Igor', 'Igor', 'Igor', 'Igor', 'Igor', 'Igor', 'Igor', 'Igor', 'Igor', 'Igor', 'Igor', 'Igor', 'Igor', 'Igor', 'Igor', 'Igor', 'Igor', 'Igor', 'Igor', 'Igor', 'Igor', 'Igor', 'Igor', 'Igor', 'Igor', 'Igor', 'Igor', 'Igor', 'Igor', 'Igor', 'Igor', 'Igor', 'Igor', 'Igor', 'Igor', 'Igor', 'Igor', 'Igor', 'Igor', 'Igor', 'Igor', 'Igor', 'Igor', 'Igor', 'Igor', 'Igor', 'Igor', 'Igor', 'Igor', 'Igor', 'Igor', 'Igor', 'Igor', 'Igor', 'Igor', 'Igor', 'Igor', 'Igor', 'Igor', 'Igor', 'Igor', 'Igor', 'Igor', 'Igor', 'Igor', 'Igor', 'Igor', 'Igor', 'Igor', 'Igor', 'Igor', 'Igor', 'Igor', 'Igor', 'Igor', 'Igor', 'Igor', 'Igor', 'Igor', 'Igor', 'Igor', 'Igor', 'Igor', 'Igor', 'Igor', 'Igor', 'Igor', 'Igor', 'Igor', 'Igor', 'Igor', 'Igor', 'Igor', 'Igor', 'Igor', 'Igor', 'Igor', 'Igor', 'Igor', 'Igor', 'Igor', 'Igor', 'Igor', 'Igor', 'Igor', 'Igor', 'Igor', 'Igor', 'Igor', 'Igor', 'Igor', 'Igor', 'Igor', 'Igor', 'Igor', 'Igor', 'Igor', 'Igor', 'Igor', 'Igor', 'Igor', 'Igor', 'Igor', 'Igor', 'Igor', 'Igor', 'Igor', 'Igor', 'Igor', 'Igor', 'Igor', 'Igor', 'Igor', 'Igor', 'Igor', 'Igor', 'Igor', 'Igor', 'Igor', 'Igor', 'Igor', 'Igor', 'Igor', 'Igor', 'Igor', 'Igor', 'Igor', 'Igor', 'Igor', 'Igor', 'Igor', 'Igor', 'Igor', 'Igor', 'Igor', 'Igor', 'Igor', 'Igor', 'Igor', 'Igor', 'Igor', 'Igor', 'Igor', 'Igor', 'Igor', 'Igor', 'Igor', 'Igor', 'Igor', 'Igor', 'Igor', 'Igor', 'Igor', 'Igor', 'Igor', 'Igor', 'Igor', 'Igor', 'Igor', 'Igor', 'Igor', 'Igor', 'Igor', 'Igor', 'Igor', 'Igor', 'Igor', 'Igor', 'Igor', 'Igor', 'Igor', 'Igor', 'Igor', 'Igor', 'Igor', 'Igor', 'Igor', 'Igor', 'Igor', 'Igor', 'Igor', 'Igor', 'Igor', 'Igor', 'Igor', 'Igor', 'Igor', 'Igor', 'Igor', 'Igor', 'Igor', 'Igor', 'Igor', 'Igor', 'Igor', 'Igor', 'Igor', 'Igor', 'Igor', 'Igor', 'Igor', 'Igor', 'Igor', 'Igor', 'Igor', 'Igor', 'Igor', 'Igor', 'Igor', 'Igor', 'Igor', 'Igor', 'Igor', 'Igor', 'Igor', 'Igor', 'Igor', 'Igor', 'Igor', 'Igor', 'Igor', 'Igor', 'Igor', 'Igor', 'Igor', 'Igor', 'Igor', 'Igor', 'Igor', 'Igor', 'Igor', 'Igor', 'Igor', 'Igor', 'Igor', 'Igor', 'Igor', 'Igor', 'Igor', 'Igor', 'Igor', 'Igor', 'Igor', 'Igor', 'Igor', 'Igor', 'Igor', 'Igor', 'Igor', 'Igor', 'Igor', 'Igor', 'Igor', 'Igor', 'Igor', 'Igor', 'Igor', 'Igor', 'Igor', 'Igor', 'Igor', 'Igor', 'Igor', 'Igor', 'Igor', 'Igor', 'Igor', 'Igor', 'Igor', 'Igor', 'Igor', 'Igor', 'Igor', 'Igor', 'Igor', 'Igor', 'Igor', 'Igor', 'Igor', 'Igor', 'Igor', 'Igor', 'Igor', 'Igor', 'Igor', 'Igor', 'Igor', 'Igor', 'Igor', 'Igor', 'Igor', 'Igor', 'Igor', 'Igor', 'Igor', 'Igor', 'Igor', 'Igor', 'Igor', 'Igor', 'Igor', 'Igor', 'Igor', 'Igor', 'Igor', 'Igor', 'Igor', 'Igor', 'Igor', 'Igor', 'Igor', 'Igor', 'Igor', 'Igor', 'Igor', 'Igor', 'Igor', 'Igor', 'Igor', 'Igor', 'Igor', 'Igor', 'Igor', 'Igor', 'Igor', 'Igor', 'Igor', 'Igor', 'Igor', 'Igor', 'Igor', 'Igor', 'Igor', 'Igor', 'Igor', 'Igor', 'Igor', 'Igor', 'Igor', 'Igor', 'Igor', 'Igor', 'Igor', 'Igor', 'Igor', 'Igor', 'Igor', 'Igor', 'Igor', 'Igor', 'Igor', 'Igor', 'Igor', 'Igor', 'Igor', 'Igor', 'Igor', 'Igor', 'Igor', 'Igor', 'Igor', 'Igor', 'Igor', 'Igor', 'Igor', 'Igor', 'Igor', 'Igor', 'Igor', 'Igor', 'Igor', 'Igor', 'Igor', 'Igor', 'Igor', 'Igor', 'Igor', 'Igor', 'Igor', 'Igor', 'Igor', 'Igor', 'Igor', 'Igor', 'Igor', 'Igor', 'Igor', 'Igor', 'Igor', 'Igor', 'Igor', 'Igor', 'Igor', 'Igor', 'Igor', 'Igor', 'Igor', 'Igor', 'Igor', 'Igor', 'Igor', 'Igor', 'Igor', 'Igor', 'Igor', 'Igor', 'Igor', 'Igor', 'Igor', 'Igor', 'Igor', 'Igor', 'Igor', 'Igor', 'Igor', 'Igor', 'Igor', 'Igor', 'Igor', 'Igor', 'Igor', 'Igor', 'Igor', 'Igor', 'Igor', 'Igor', 'Igor', 'Igor', 'Igor', 'Igor', 'Igor', 'Igor', 'Igor', 'Igor', 'Igor', 'Igor', 'Igor', 'Igor', 'Igor', 'Igor', 'Igor', 'Igor', 'Igor', 'Igor', 'Igor', 'Igor', 'Igor', 'Igor', 'Igor', 'Igor', 'Igor', 'Igor', 'Igor', 'Igor', 'Igor', 'Igor', 'Igor', 'Igor', 'Igor', 'Igor', 'Igor', 'Igor', 'Igor', 'Igor', 'Igor', 'Igor', 'Igor', 'Igor', 'Igor', 'Igor', 'Igor', 'Igor']\n",
            "{'Igor'}\n"
          ],
          "name": "stdout"
        }
      ]
    },
    {
      "cell_type": "code",
      "metadata": {
        "id": "sOoDXyf1mypq",
        "outputId": "9995f365-c0ff-4319-8fbe-5327553b5a8c",
        "colab": {
          "base_uri": "https://localhost:8080/",
          "height": 71
        }
      },
      "source": [
        "%%timeit\n",
        "#jest = \"Igor_999\" in studenci_lista\n",
        "jest = \"Igor_999\" in studenci_set"
      ],
      "execution_count": null,
      "outputs": [
        {
          "output_type": "stream",
          "text": [
            "The slowest run took 34.36 times longer than the fastest. This could mean that an intermediate result is being cached.\n",
            "10000000 loops, best of 3: 33.9 ns per loop\n"
          ],
          "name": "stdout"
        }
      ]
    },
    {
      "cell_type": "markdown",
      "metadata": {
        "id": "96Bei09geJKm"
      },
      "source": [
        "### Własne typy"
      ]
    },
    {
      "cell_type": "code",
      "metadata": {
        "id": "r3-Xb4w-eJKn"
      },
      "source": [
        "zajecia = [[\"wf\"],\n",
        "           [\"informatyka\", \"nauka czytania\"],\n",
        "           [\"relax\", \"jedzenie\"],\n",
        "           [\"mispy\",\"mispy w domu\"],\n",
        "           [\"piateczek\", \"praca domowa z mispow\", \"Ilovemispy\", \"mispy w czasie snu\"]\n",
        "          ]\n",
        "\n",
        "dnityg= [\"Pon\",\"Wto\",\"Sro\",\"Czwar\",\"Pio\"]\n",
        "\n",
        "def dodaj_dwie_liczby(liczba1,liczba2):\n",
        "    return liczba1+liczba2"
      ],
      "execution_count": null,
      "outputs": []
    },
    {
      "cell_type": "code",
      "metadata": {
        "id": "XKWu5rjteJKp"
      },
      "source": [
        "class DzienZajec():\n",
        "    \"\"\"obiekt trzymający dany dzień zajęć i przypisane mu metody\"\"\"\n",
        "    \n",
        "    \n",
        "    def __init__(self, lista_na_dany_dzien, nazwa_dnia): #definicja\n",
        "        self.lista_zajec= lista_na_dany_dzien\n",
        "        self.dzien = nazwa_dnia\n",
        "        \n",
        "\n",
        "    \n",
        "    def ile_mispow(self):\n",
        "        ile_m = sum([1 for zajecie in self.lista_zajec if \"misp\" in zajecie.lower()])\n",
        "        return ile_m\n",
        "\n",
        "    @property #zamienia na wlasciwosc   \n",
        "    def ile_zajec(self):\n",
        "        return len(self.lista_zajec)\n",
        "    \n",
        "    def __repr__(self):\n",
        "        zajecia_do_stringa = \", \".join(self.lista_zajec)\n",
        "        return \"W dzien {} mam zajecia: {}\".format(self.dzien, zajecia_do_stringa)\n",
        "    "
      ],
      "execution_count": null,
      "outputs": []
    },
    {
      "cell_type": "code",
      "metadata": {
        "id": "PsnBZ0kveJKt"
      },
      "source": [
        "pio_zajecia = DzienZajec([\"piateczek\", \"praca domowa z mispow\", \"Ilovemispy\", \"mispy w czasie snu\"],\n",
        "                        \"piatek\")"
      ],
      "execution_count": null,
      "outputs": []
    },
    {
      "cell_type": "code",
      "metadata": {
        "id": "qkEHPRSYeJKy",
        "outputId": "701df790-1102-49c5-f145-e88c6f128fa0",
        "colab": {
          "base_uri": "https://localhost:8080/",
          "height": 34
        }
      },
      "source": [
        "pio_zajecia.ile_zajec"
      ],
      "execution_count": null,
      "outputs": [
        {
          "output_type": "execute_result",
          "data": {
            "text/plain": [
              "4"
            ]
          },
          "metadata": {
            "tags": []
          },
          "execution_count": 22
        }
      ]
    },
    {
      "cell_type": "code",
      "metadata": {
        "id": "kRIq8M1NeJK1",
        "outputId": "83f0bb9f-c7ed-471d-b6d7-c2f929e7932c",
        "colab": {
          "base_uri": "https://localhost:8080/",
          "height": 34
        }
      },
      "source": [
        "print(pio_zajecia)"
      ],
      "execution_count": null,
      "outputs": [
        {
          "output_type": "stream",
          "text": [
            "W dzien piatek mam zajecia: piateczek, praca domowa z mispow, Ilovemispy, mispy w czasie snu\n"
          ],
          "name": "stdout"
        }
      ]
    },
    {
      "cell_type": "code",
      "metadata": {
        "id": "mKD_PgryeJK4",
        "outputId": "17a2c4dd-70b7-4a5b-e7a4-68ed8efb738b",
        "colab": {
          "base_uri": "https://localhost:8080/",
          "height": 34
        }
      },
      "source": [
        "pio_zajecia.lista_zajec"
      ],
      "execution_count": null,
      "outputs": [
        {
          "output_type": "execute_result",
          "data": {
            "text/plain": [
              "['piateczek', 'praca domowa z mispow', 'Ilovemispy', 'mispy w czasie snu']"
            ]
          },
          "metadata": {
            "tags": []
          },
          "execution_count": 24
        }
      ]
    },
    {
      "cell_type": "code",
      "metadata": {
        "id": "YvxW49mXeJK6",
        "outputId": "24c12525-db0c-4b76-91bd-f16fa87ea509",
        "colab": {
          "base_uri": "https://localhost:8080/",
          "height": 34
        }
      },
      "source": [
        "pio_zajecia.lista_zajec.append(\"MISP\")\n",
        "print(pio_zajecia.lista_zajec)"
      ],
      "execution_count": null,
      "outputs": [
        {
          "output_type": "stream",
          "text": [
            "['piateczek', 'praca domowa z mispow', 'Ilovemispy', 'mispy w czasie snu', 'MISP']\n"
          ],
          "name": "stdout"
        }
      ]
    },
    {
      "cell_type": "code",
      "metadata": {
        "id": "TYop2TpYeJK9",
        "outputId": "c434cdf2-d06b-488c-d453-882eed88fb1f",
        "colab": {
          "base_uri": "https://localhost:8080/",
          "height": 34
        }
      },
      "source": [
        "pio_zajecia.ile_mispow()"
      ],
      "execution_count": null,
      "outputs": [
        {
          "output_type": "execute_result",
          "data": {
            "text/plain": [
              "4"
            ]
          },
          "metadata": {
            "tags": []
          },
          "execution_count": 26
        }
      ]
    },
    {
      "cell_type": "code",
      "metadata": {
        "id": "jkwzt9v8eJLC",
        "outputId": "587d88ba-7c98-4af7-d014-e340fe9f895c",
        "colab": {
          "base_uri": "https://localhost:8080/",
          "height": 34
        }
      },
      "source": [
        "print(pio_zajecia.lista_zajec)\n"
      ],
      "execution_count": null,
      "outputs": [
        {
          "output_type": "stream",
          "text": [
            "['piateczek', 'praca domowa z mispow', 'Ilovemispy', 'mispy w czasie snu', 'MISP']\n"
          ],
          "name": "stdout"
        }
      ]
    },
    {
      "cell_type": "code",
      "metadata": {
        "id": "WMDmvw53eJLF",
        "outputId": "7a6ea1a8-7a62-404c-d90e-86bda775d216",
        "colab": {
          "base_uri": "https://localhost:8080/",
          "height": 34
        }
      },
      "source": [
        "pio_zajecia"
      ],
      "execution_count": null,
      "outputs": [
        {
          "output_type": "execute_result",
          "data": {
            "text/plain": [
              "W dzien piatek mam zajecia: piateczek, praca domowa z mispow, Ilovemispy, mispy w czasie snu, MISP"
            ]
          },
          "metadata": {
            "tags": []
          },
          "execution_count": 28
        }
      ]
    },
    {
      "cell_type": "code",
      "metadata": {
        "id": "jm0NYvmreJLH",
        "outputId": "5750d6a5-de96-4822-ffac-53cc1d3bf080",
        "colab": {
          "base_uri": "https://localhost:8080/",
          "height": 34
        }
      },
      "source": [
        "print(pio_zajecia.ile_zajec)"
      ],
      "execution_count": null,
      "outputs": [
        {
          "output_type": "stream",
          "text": [
            "5\n"
          ],
          "name": "stdout"
        }
      ]
    },
    {
      "cell_type": "code",
      "metadata": {
        "id": "e5wQIo8xeJLL"
      },
      "source": [
        "lista_zajec= [DzienZajec(lista_dzien, dzien) for lista_dzien, dzien in \n",
        "             zip(zajecia,dnityg)]"
      ],
      "execution_count": null,
      "outputs": []
    },
    {
      "cell_type": "code",
      "metadata": {
        "id": "Zn7TkhwXeJLN",
        "outputId": "7991706e-2fad-436f-cfaa-249b8b803082",
        "colab": {
          "base_uri": "https://localhost:8080/",
          "height": 54
        }
      },
      "source": [
        "print(lista_zajec)"
      ],
      "execution_count": null,
      "outputs": [
        {
          "output_type": "stream",
          "text": [
            "[W dzien Pon mam zajecia: wf, W dzien Wto mam zajecia: informatyka, nauka czytania, W dzien Sro mam zajecia: relax, jedzenie, W dzien Czwar mam zajecia: mispy, mispy w domu, W dzien Pio mam zajecia: piateczek, praca domowa z mispow, Ilovemispy, mispy w czasie snu]\n"
          ],
          "name": "stdout"
        }
      ]
    },
    {
      "cell_type": "code",
      "metadata": {
        "id": "rySj2g0HeJLR"
      },
      "source": [
        "posortowane_po_zajeciach=sorted(lista_zajec, key= lambda zajecie: zajecie.ile_zajec)\n",
        "posortowane_po_mispach=sorted(lista_zajec, key= lambda zajecie: zajecie.ile_mispow())"
      ],
      "execution_count": null,
      "outputs": []
    },
    {
      "cell_type": "code",
      "metadata": {
        "id": "aDHU_r0-eJLU",
        "outputId": "8b2f32e4-6dee-4a1b-ccaa-d12058a0354b",
        "colab": {
          "base_uri": "https://localhost:8080/",
          "height": 54
        }
      },
      "source": [
        "print(posortowane_po_zajeciach)"
      ],
      "execution_count": null,
      "outputs": [
        {
          "output_type": "stream",
          "text": [
            "[W dzien Pon mam zajecia: wf, W dzien Wto mam zajecia: informatyka, nauka czytania, W dzien Sro mam zajecia: relax, jedzenie, W dzien Czwar mam zajecia: mispy, mispy w domu, W dzien Pio mam zajecia: piateczek, praca domowa z mispow, Ilovemispy, mispy w czasie snu]\n"
          ],
          "name": "stdout"
        }
      ]
    },
    {
      "cell_type": "code",
      "metadata": {
        "id": "Vn2VEzMFeJLX",
        "outputId": "e7ae911c-3618-4523-8220-e94ff615cae6",
        "colab": {
          "base_uri": "https://localhost:8080/",
          "height": 54
        }
      },
      "source": [
        "print(posortowane_po_mispach)"
      ],
      "execution_count": null,
      "outputs": [
        {
          "output_type": "stream",
          "text": [
            "[W dzien Pon mam zajecia: wf, W dzien Wto mam zajecia: informatyka, nauka czytania, W dzien Sro mam zajecia: relax, jedzenie, W dzien Czwar mam zajecia: mispy, mispy w domu, W dzien Pio mam zajecia: piateczek, praca domowa z mispow, Ilovemispy, mispy w czasie snu]\n"
          ],
          "name": "stdout"
        }
      ]
    },
    {
      "cell_type": "markdown",
      "metadata": {
        "id": "sObn_-KOeJLa"
      },
      "source": [
        "##### challenge 1\n",
        "\n",
        "Stworz typ NumerTelefonu\n",
        "\n",
        " -- przy tworzeniu sprawdza czy właściwy numer (Polski) jeśli nie pisze, że error (ew. Exception)\n",
        " \n",
        " -- gdy printuję to mi pisze polskimi słowami i.e. \"jeden, pięć, siedem, zero\"\n",
        " \n",
        " -- gdy wywołuję właściwość wojewodzwtwo, podaje mi wojewodztwo ew. ze to komorkowy\n",
        " \n",
        " "
      ]
    },
    {
      "cell_type": "code",
      "metadata": {
        "id": "Z3LNrYjseJLa",
        "outputId": "448fd10d-5cd3-4c03-e84e-7a5052ffa1b6",
        "colab": {
          "base_uri": "https://localhost:8080/",
          "height": 129
        }
      },
      "source": [
        "# ma na takie rzeczy być w stanie odpowiedzieć\n",
        "\n",
        "numer_lodz = NumerTelefonu(\"426877868\")\n",
        ">>> \"prawidlowy numer\"\n",
        "\n",
        "numer_lodz.wojewodztwo \n",
        ">>> \"Lodz\"\n",
        "\n",
        "print(numer_lodz)\n",
        ">>> \"cztery dwa sześć osiem siedem siedem osiem sześć osiem\""
      ],
      "execution_count": null,
      "outputs": [
        {
          "output_type": "error",
          "ename": "SyntaxError",
          "evalue": "ignored",
          "traceback": [
            "\u001b[0;36m  File \u001b[0;32m\"<ipython-input-35-8dab9ef631a2>\"\u001b[0;36m, line \u001b[0;32m4\u001b[0m\n\u001b[0;31m    >>> \"prawidlowy numer\"\u001b[0m\n\u001b[0m     ^\u001b[0m\n\u001b[0;31mSyntaxError\u001b[0m\u001b[0;31m:\u001b[0m invalid syntax\n"
          ]
        }
      ]
    },
    {
      "cell_type": "code",
      "metadata": {
        "id": "6D-wQwHjmxJf"
      },
      "source": [
        "class KsiazkaTelefoniczna():\n",
        "\n",
        "    def __init__(self, numer_telefonu_arg):\n",
        "        self.numer_telefonu = numer_telefonu_arg\n",
        "        if len(self.numer_telefonu) == 9:\n",
        "            print(\"Numer właściwy (z Polski)\")\n",
        "        else:\n",
        "            print(\"Error - numer zagraniczny\")\n",
        "\n",
        "    def wojewodztwo(self):\n",
        "        numer_kierunkowy = self.numer_telefonu[0] + self.numer_telefonu[1]\n",
        "        numer_kierunkowy_lista = {\"22\":\"Warszawa\",\"42\":\"Lodz\",\"58\":\"Gdansk\"}\n",
        "\n",
        "        try:\n",
        "            kierunek_numeru = numer_kierunkowy_lista[numer_kierunkowy]\n",
        "            print(\"Numer z miasta: \" + kierunek_numeru)\n",
        "        except KeyError:\n",
        "            kierunek_numer = \"Numer komórkowy\"\n",
        "        return kierunek_numeru\n",
        "\n",
        "\n",
        "    def __repr__(self):\n",
        "        cyfry = [\"zero\",\"jeden\",\"dwa\",\"trzy\",\"cztery\",\"pięć\",\"sześć\",\"siedem\",\"osiem\",\"dziewięć\"]\n",
        "        string = \"Numer jako tekst:\"\n",
        "        for cyfra in self.numer_telefonu:\n",
        "            string = string + \" \" + cyfry[int(cyfra)]\n",
        "        return string\n",
        "\n",
        "\n",
        "numerTelefonu = KsiazkaTelefoniczna('223476888')\n",
        "numerTelefonu.wojewodztwo();\n",
        "print(numerTelefonu)\n"
      ],
      "execution_count": null,
      "outputs": []
    }
  ]
}