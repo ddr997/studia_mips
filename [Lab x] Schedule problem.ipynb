{
  "nbformat": 4,
  "nbformat_minor": 0,
  "metadata": {
    "colab": {
      "name": "Kopia notatnika Kopia notatnika instalacja pierwsze ćwiczenia z Pulp",
      "provenance": [],
      "collapsed_sections": [],
      "include_colab_link": true
    },
    "kernelspec": {
      "name": "python3",
      "display_name": "Python 3"
    }
  },
  "cells": [
    {
      "cell_type": "markdown",
      "metadata": {
        "id": "view-in-github",
        "colab_type": "text"
      },
      "source": [
        "<a href=\"https://colab.research.google.com/github/ddr997/studia_mips/blob/main/%5BLab%20x%5D%20Schedule%20problem.ipynb\" target=\"_parent\"><img src=\"https://colab.research.google.com/assets/colab-badge.svg\" alt=\"Open In Colab\"/></a>"
      ]
    },
    {
      "cell_type": "code",
      "metadata": {
        "id": "BjX-mj9e8D5a"
      },
      "source": [
        "!pip install pulp\n",
        "\n",
        "!sudo apt-get install coinor-cbc glpk-utils coinor-clp\n"
      ],
      "execution_count": null,
      "outputs": []
    },
    {
      "cell_type": "code",
      "metadata": {
        "id": "HMGiufp89W-9"
      },
      "source": [
        "### kod sprawdza czy instalacja się udała\n",
        "import pulp\n",
        "\n",
        "print(pulp.__version__)"
      ],
      "execution_count": null,
      "outputs": []
    },
    {
      "cell_type": "code",
      "metadata": {
        "id": "05p9Frax-V2f"
      },
      "source": [
        "pulp.pulpTestAll()"
      ],
      "execution_count": null,
      "outputs": []
    },
    {
      "cell_type": "code",
      "metadata": {
        "id": "Se_t7o8bTLdW"
      },
      "source": [
        "from pulp import *\n",
        "#5 dni w tygodniu, Ania kazdy dzien 100zl/h ; Stefan (pon) 50zl/h ; Hektor (pon,wt,sr) 60zl/h ; olaf kazdy 40zl/h ; lidia (czw,pt) 110zl/h ; piotr (pon,wt,sr) 70zl/h\n",
        "# liczba pracownikow w dniu tygodnia : {2,1,1,1,3}\n",
        "# 3 dni w tyg. max\n",
        "\n",
        "prob = LpProblem(\"Jak zatrudnic aby malo zaplacic #polska\",LpMinimize)\n",
        "\n",
        "a_pn = LpVariable(\"a1\", 0, None, LpBinary)\n",
        "a_w = LpVariable(\"a2\", 0, None, LpBinary)\n",
        "a_s = LpVariable(\"a3\", 0, None, LpBinary)\n",
        "a_cz = LpVariable(\"a4\", 0, None, LpBinary)\n",
        "a_pi = LpVariable(\"a5\", 0, None, LpBinary)\n",
        "\n",
        "s_pn = LpVariable(\"s1\", 0, None, LpBinary)\n",
        "\n",
        "h_pn = LpVariable(\"h1\", 0, None, LpBinary)\n",
        "h_w = LpVariable(\"h2\", 0, None, LpBinary)\n",
        "h_s = LpVariable(\"h3\", 0, None, LpBinary)\n",
        "\n",
        "o_pn = LpVariable(\"o1\", 0, None, LpBinary)\n",
        "o_w = LpVariable(\"o2\", 0, None, LpBinary)\n",
        "o_s = LpVariable(\"o3\", 0, None, LpBinary)\n",
        "o_cz = LpVariable(\"o4\", 0, None, LpBinary)\n",
        "o_pi = LpVariable(\"o5\", 0, None, LpBinary)\n",
        "\n",
        "l_cz = LpVariable(\"l4\", 0, None, LpBinary)\n",
        "l_pi = LpVariable(\"l5\", 0, None, LpBinary)\n",
        "\n",
        "p_pn = LpVariable(\"p1\", 0, None, LpBinary)\n",
        "p_w = LpVariable(\"p2\", 0, None, LpBinary)\n",
        "p_s = LpVariable(\"p3\", 0, None, LpBinary)\n",
        "\n",
        "\n",
        "prob += 100 * (a_pn + a_w + a_s + a_cz + a_pi) + 50 * s_pn + 60 * (h_pn + h_w + h_s) + 40 * (o_pn + o_w + o_s + o_cz + o_pi) + 110*(l_cz + l_pi) + 70 * (p_pn + p_w + p_s), \"Docelowa_zaplata\"\n",
        "prob += a_pn + s_pn + h_pn + o_pn + p_pn == 2, \"dwoch_w_poniedzialek\"\n",
        "prob += a_w + h_w + o_w + p_w == 1, \"jeden_w_wtorek\"\n",
        "prob += a_s + h_s + o_s + p_s == 1, \"jeden_w_srode\"\n",
        "prob += a_cz + o_cz + l_cz == 1, \"jeden_w_czwartek\"\n",
        "prob += a_pi + o_pi + l_pi == 3, \"trzy_w_piatek\"\n",
        "\n",
        "##ograniczenie do 3 dni w tyg\n",
        "prob += a_pn + a_w + a_s + a_cz + a_pi == 3, \"3 dni w tygodniu dla Ani\"\n",
        "prob += o_pn + o_w + o_s + o_cz + o_pi == 3, \"3 dni w tygodniu dla Olafa\"\n",
        "\n",
        "prob.solve()\n",
        "prob.writeLP(\"sklep.lp\")\n",
        "print(\"Status:\", LpStatus[prob.status])\n",
        "\n",
        "for v in prob.variables():\n",
        "    print (v.name,\"=\",v.varValue)\n",
        "print (\"Calkowita wyplata tygodniowa: {}\".format(value(prob.objective)))"
      ],
      "execution_count": null,
      "outputs": []
    },
    {
      "cell_type": "markdown",
      "metadata": {
        "id": "EH1o97nTCi_0"
      },
      "source": [
        ""
      ]
    }
  ]
}